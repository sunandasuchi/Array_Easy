{
 "cells": [
  {
   "cell_type": "markdown",
   "metadata": {},
   "source": [
    "## Longest Word"
   ]
  },
  {
   "cell_type": "markdown",
   "metadata": {},
   "source": [
    "#### Using Time Complexity O(n)"
   ]
  },
  {
   "cell_type": "code",
   "execution_count": 3,
   "metadata": {},
   "outputs": [
    {
     "name": "stdout",
     "output_type": "stream",
     "text": [
      "NiceDay\n"
     ]
    }
   ],
   "source": [
    "st = \"Today Is a NiceDay\"\n",
    "wrd = ''\n",
    "s = ''\n",
    "for i in st[0:]:\n",
    "    if i.isalpha() == True:\n",
    "        wrd += i\n",
    "    else: \n",
    "        if len(wrd) > len(s)  :\n",
    "            s = wrd\n",
    "        wrd = ''\n",
    "            \n",
    "if len(wrd) > len(s):\n",
    "    s = wrd\n",
    "print(s)"
   ]
  },
  {
   "cell_type": "markdown",
   "metadata": {},
   "source": [
    "#### Using split() and max() function "
   ]
  },
  {
   "cell_type": "code",
   "execution_count": 4,
   "metadata": {},
   "outputs": [
    {
     "name": "stdout",
     "output_type": "stream",
     "text": [
      "NiceDay\n"
     ]
    }
   ],
   "source": [
    "st1 = \"Today Is a NiceDay\"\n",
    "l = st1.split()\n",
    "for i in l:\n",
    "    if i.isalpha()!= True:\n",
    "        l.remove(i)\n",
    "print(max(l, key= len))\n",
    "    \n",
    "    "
   ]
  },
  {
   "cell_type": "code",
   "execution_count": null,
   "metadata": {},
   "outputs": [],
   "source": []
  }
 ],
 "metadata": {
  "kernelspec": {
   "display_name": "Python 3",
   "language": "python",
   "name": "python3"
  },
  "language_info": {
   "codemirror_mode": {
    "name": "ipython",
    "version": 3
   },
   "file_extension": ".py",
   "mimetype": "text/x-python",
   "name": "python",
   "nbconvert_exporter": "python",
   "pygments_lexer": "ipython3",
   "version": "3.7.3"
  }
 },
 "nbformat": 4,
 "nbformat_minor": 2
}
