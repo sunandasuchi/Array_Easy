{
  "nbformat": 4,
  "nbformat_minor": 0,
  "metadata": {
    "colab": {
      "name": "Untitled3.ipynb",
      "provenance": [],
      "authorship_tag": "ABX9TyOAVuVs2ZBOkpVOEFsXiAEe",
      "include_colab_link": true
    },
    "kernelspec": {
      "name": "python3",
      "display_name": "Python 3"
    }
  },
  "cells": [
    {
      "cell_type": "markdown",
      "metadata": {
        "id": "view-in-github",
        "colab_type": "text"
      },
      "source": [
        "<a href=\"https://colab.research.google.com/github/sunandasuchi/Array_Easy/blob/master/MergeSortedArrays.ipynb\" target=\"_parent\"><img src=\"https://colab.research.google.com/assets/colab-badge.svg\" alt=\"Open In Colab\"/></a>"
      ]
    },
    {
      "cell_type": "markdown",
      "metadata": {
        "id": "FTivEOEVKrSE"
      },
      "source": [
        "## **Merge and Sort 2 Arrays**"
      ]
    },
    {
      "cell_type": "markdown",
      "metadata": {
        "id": "_2Ogv7hXlROW"
      },
      "source": [
        "#### It is not sorted arrays. And the time complexity is O(n^2). As, I am using nested while and for loop"
      ]
    },
    {
      "cell_type": "code",
      "metadata": {
        "id": "Snugdlk1OZh5"
      },
      "source": [
        ""
      ],
      "execution_count": null,
      "outputs": []
    },
    {
      "cell_type": "code",
      "metadata": {
        "id": "22QUk8SyOZsB"
      },
      "source": [
        "def MergeSortArray(arr1, arr2):\r\n",
        "  arr = arr1 + arr2\r\n",
        "  change = True\r\n",
        "  while change == True:\r\n",
        "    change = False\r\n",
        "    for i in range(1, len(arr)):\r\n",
        "      if arr[i] < arr[i-1]:\r\n",
        "        arr[i], arr[i-1] = arr[i-1], arr[i]\r\n",
        "        change = True\r\n",
        "\r\n",
        "  return arr"
      ],
      "execution_count": null,
      "outputs": []
    },
    {
      "cell_type": "code",
      "metadata": {
        "colab": {
          "base_uri": "https://localhost:8080/"
        },
        "id": "thwwBh5JOZvm",
        "outputId": "a2c88fae-e441-4456-a31d-291a2517330d"
      },
      "source": [
        "\r\n",
        "MergeSortArray([],[6,30,3] )\r\n",
        "\r\n"
      ],
      "execution_count": null,
      "outputs": [
        {
          "output_type": "execute_result",
          "data": {
            "text/plain": [
              "[]"
            ]
          },
          "metadata": {
            "tags": []
          },
          "execution_count": 2
        }
      ]
    },
    {
      "cell_type": "markdown",
      "metadata": {
        "id": "ndpOb1tDBgsh"
      },
      "source": [
        "#### **Merge Sorted Arrays**."
      ]
    },
    {
      "cell_type": "code",
      "metadata": {
        "id": "DzJQyr6rBrLu"
      },
      "source": [
        "def MergeSortArray(arr1, arr2):\r\n",
        "  ind1 = 0\r\n",
        "  ind2 = 0\r\n",
        "  flag = 0\r\n",
        "  arr = []\r\n",
        "\r\n",
        "  while (ind1 < len(arr1) and ind2 < len(arr2) ):\r\n",
        "      if arr1[ind1] <= arr2[ind2]:\r\n",
        "        arr.append(arr1[ind1])\r\n",
        "        ind1 += 1\r\n",
        "    \r\n",
        "      else:\r\n",
        "        arr.append(arr2[ind2])\r\n",
        "        ind2 += 1\r\n",
        "    \r\n",
        "      if (ind1 == len(arr1)):\r\n",
        "        flag = 1\r\n",
        "\r\n",
        "  if flag==1:\r\n",
        "    for item in arr2[ind2:]:\r\n",
        "      arr.append(item)\r\n",
        "  else: \r\n",
        "    for item in arr1[ind1:]:\r\n",
        "      arr.append(item)\r\n",
        "\r\n",
        "  return arr\r\n",
        "    "
      ],
      "execution_count": 10,
      "outputs": []
    },
    {
      "cell_type": "code",
      "metadata": {
        "colab": {
          "base_uri": "https://localhost:8080/"
        },
        "id": "4M7sglFSCtIo",
        "outputId": "7ad9373c-fa31-4664-e508-9b1685c89e40"
      },
      "source": [
        "output = MergeSortArray([0,3,4,7,9,15,35],[1] )\r\n",
        "print(output)"
      ],
      "execution_count": 13,
      "outputs": [
        {
          "output_type": "stream",
          "text": [
            "[0, 1, 3, 4, 7, 9, 15, 35]\n"
          ],
          "name": "stdout"
        }
      ]
    },
    {
      "cell_type": "markdown",
      "metadata": {
        "id": "1E4Dz3q2DHSH"
      },
      "source": [
        "#### **Another Way**"
      ]
    },
    {
      "cell_type": "code",
      "metadata": {
        "id": "j1CbXxGtOZyR"
      },
      "source": [
        "def MergeSortArray(arr1, arr2):\r\n",
        "  arr11 = arr1[0]\r\n",
        "  arr22 = arr2[0]\r\n",
        "  arr = []\r\n",
        "  i  = 0\r\n",
        "  j = 0\r\n",
        "  ifZero = 0\r\n",
        "\r\n",
        "  while (i < len(arr1) and j < len(arr2) ):\r\n",
        "    if arr1[i] <= arr2[j]:\r\n",
        "      arr.append(arr1[i])\r\n",
        "      i += 1\r\n",
        "\r\n",
        "    else:\r\n",
        "    #arr1[i] > arr2[j]: \r\n",
        "      arr.append(arr2[j])\r\n",
        "      j += 1\r\n",
        "\r\n",
        "    \r\n",
        "\r\n",
        "  return arr+arr1[i::]+arr2[j::]\r\n",
        "\r\n",
        "  \r\n",
        "\r\n",
        "\r\n",
        "\r\n",
        "\r\n",
        "  \r\n"
      ],
      "execution_count": 127,
      "outputs": []
    },
    {
      "cell_type": "code",
      "metadata": {
        "id": "xPQ-V9lDDP4H",
        "colab": {
          "base_uri": "https://localhost:8080/"
        },
        "outputId": "6b6e71b0-7b33-4af1-f5cf-ae57937cd068"
      },
      "source": [
        "MergeSortArray([0,3,4],[3,6,30, 35, 50] )\r\n"
      ],
      "execution_count": 128,
      "outputs": [
        {
          "output_type": "execute_result",
          "data": {
            "text/plain": [
              "[0, 3, 3, 4, 6, 30, 35, 50]"
            ]
          },
          "metadata": {
            "tags": []
          },
          "execution_count": 128
        }
      ]
    }
  ]
}