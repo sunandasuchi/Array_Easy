{
 "cells": [
  {
   "cell_type": "markdown",
   "metadata": {},
   "source": [
    "## Maximum Sublist"
   ]
  },
  {
   "cell_type": "code",
   "execution_count": 3,
   "metadata": {},
   "outputs": [
    {
     "name": "stdout",
     "output_type": "stream",
     "text": [
      "6\n"
     ]
    }
   ],
   "source": [
    "nums = [-2,1,-3,4,-1,2,1,-5,4]\n",
    "maxi = nums[0]\n",
    "summ = nums[0]\n",
    "\n",
    "for i in nums[1:]:\n",
    "    \n",
    "    summ = max(summ+i, i)\n",
    "    \n",
    "    if summ > maxi:\n",
    "        maxi = summ\n",
    "print(maxi)"
   ]
  },
  {
   "cell_type": "markdown",
   "metadata": {},
   "source": [
    "#### Returns the summation of Maximum subarray. It starts from nums[0]. Loop starts from nums[1] and \n",
    "#### checks if summation of nums[0] + nums[i] is bigger or nums[i] is bigger. Keeps the bigger number in the\n",
    "#### summ variable. It also updates the maximum number."
   ]
  },
  {
   "cell_type": "code",
   "execution_count": null,
   "metadata": {},
   "outputs": [],
   "source": []
  }
 ],
 "metadata": {
  "kernelspec": {
   "display_name": "Python 3",
   "language": "python",
   "name": "python3"
  },
  "language_info": {
   "codemirror_mode": {
    "name": "ipython",
    "version": 3
   },
   "file_extension": ".py",
   "mimetype": "text/x-python",
   "name": "python",
   "nbconvert_exporter": "python",
   "pygments_lexer": "ipython3",
   "version": "3.7.3"
  }
 },
 "nbformat": 4,
 "nbformat_minor": 2
}
