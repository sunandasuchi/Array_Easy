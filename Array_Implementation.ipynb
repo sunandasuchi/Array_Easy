{
  "nbformat": 4,
  "nbformat_minor": 0,
  "metadata": {
    "colab": {
      "name": "Untitled1.ipynb",
      "provenance": [],
      "authorship_tag": "ABX9TyM/fRYhLKDnkz/sUMqX7uGj",
      "include_colab_link": true
    },
    "kernelspec": {
      "name": "python3",
      "display_name": "Python 3"
    }
  },
  "cells": [
    {
      "cell_type": "markdown",
      "metadata": {
        "id": "view-in-github",
        "colab_type": "text"
      },
      "source": [
        "<a href=\"https://colab.research.google.com/github/sunandasuchi/Array_Easy/blob/master/Array_Implementation.ipynb\" target=\"_parent\"><img src=\"https://colab.research.google.com/assets/colab-badge.svg\" alt=\"Open In Colab\"/></a>"
      ]
    },
    {
      "cell_type": "code",
      "metadata": {
        "id": "xK_JYtKspyip"
      },
      "source": [
        "class MyArray():\r\n",
        "    \r\n",
        "  def __init__(self):\r\n",
        "    self.length = 0\r\n",
        "    self.data = {}\r\n",
        "\r\n",
        "  def get(self,ind):\r\n",
        "    \r\n",
        "    return self.data[ind]\r\n",
        "\r\n",
        "  def pushItem(self, item):\r\n",
        "    self.data[self.length] = item\r\n",
        "    self.length += 1\r\n",
        "\r\n",
        "  def popItem(self):\r\n",
        "    #lastitem = self.data[self.length -1]\r\n",
        "    del self.data[self.length -1]\r\n",
        "    self.length -= 1\r\n",
        "\r\n",
        "\r\n",
        "  def delItem(self, index):\r\n",
        "    del self.data[index]\r\n",
        "    for i in range(index,self.length-1):\r\n",
        "      self.data[i] = self.data[i+1]\r\n",
        "    del self.data[self.length-1]\r\n",
        "    self.length -= 1\r\n",
        "\r\n",
        "  def insertItem(self, ind, val):\r\n",
        "    for i in range(self.length, ind, -1): # Time Complexity O(n)\r\n",
        "      self.data[i] = self.data[i-1]\r\n",
        "    self.data[ind] = val\r\n",
        "\r\n",
        "    self.length += 1\r\n",
        "\r\n",
        "\r\n",
        "\r\n"
      ],
      "execution_count": 122,
      "outputs": []
    },
    {
      "cell_type": "code",
      "metadata": {
        "colab": {
          "base_uri": "https://localhost:8080/"
        },
        "id": "B_vU3hN3tORF",
        "outputId": "3da20a21-f3cc-428b-b161-3b2cbb89f419"
      },
      "source": [
        "array = MyArray()\r\n",
        "array.pushItem(2)\r\n",
        "array.pushItem(5)\r\n",
        "array.pushItem(17)\r\n",
        "array.pushItem(51)\r\n",
        "array.pushItem(\"Gutu\")\r\n",
        "array.pushItem('P')\r\n",
        "array.data\r\n"
      ],
      "execution_count": 123,
      "outputs": [
        {
          "output_type": "execute_result",
          "data": {
            "text/plain": [
              "{0: 2, 1: 5, 2: 17, 3: 51, 4: 'Gutu', 5: 'P'}"
            ]
          },
          "metadata": {
            "tags": []
          },
          "execution_count": 123
        }
      ]
    },
    {
      "cell_type": "code",
      "metadata": {
        "colab": {
          "base_uri": "https://localhost:8080/"
        },
        "id": "NjdkxKX0-zxa",
        "outputId": "925050dc-1d82-45fb-e9eb-186e923256d4"
      },
      "source": [
        "array.length"
      ],
      "execution_count": 124,
      "outputs": [
        {
          "output_type": "execute_result",
          "data": {
            "text/plain": [
              "6"
            ]
          },
          "metadata": {
            "tags": []
          },
          "execution_count": 124
        }
      ]
    },
    {
      "cell_type": "code",
      "metadata": {
        "colab": {
          "base_uri": "https://localhost:8080/"
        },
        "id": "Jq2lO2Qr5sm2",
        "outputId": "fef9def7-77bd-4862-de16-7e07aba89bf3"
      },
      "source": [
        "array.insertItem(2, \"Pili\")\r\n",
        "\r\n",
        "array.data"
      ],
      "execution_count": 125,
      "outputs": [
        {
          "output_type": "execute_result",
          "data": {
            "text/plain": [
              "{0: 2, 1: 5, 2: 'Pili', 3: 17, 4: 51, 5: 'Gutu', 6: 'P'}"
            ]
          },
          "metadata": {
            "tags": []
          },
          "execution_count": 125
        }
      ]
    },
    {
      "cell_type": "code",
      "metadata": {
        "colab": {
          "base_uri": "https://localhost:8080/"
        },
        "id": "wJuvz_Eu8lPi",
        "outputId": "e64fba48-394f-43db-86c2-b3fa7cf0f37a"
      },
      "source": [
        "array.length"
      ],
      "execution_count": 126,
      "outputs": [
        {
          "output_type": "execute_result",
          "data": {
            "text/plain": [
              "7"
            ]
          },
          "metadata": {
            "tags": []
          },
          "execution_count": 126
        }
      ]
    }
  ]
}