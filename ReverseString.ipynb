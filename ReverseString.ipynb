{
  "nbformat": 4,
  "nbformat_minor": 0,
  "metadata": {
    "colab": {
      "name": "Untitled3.ipynb",
      "provenance": [],
      "authorship_tag": "ABX9TyOJFYdD9zGaOMqUkKm3NNMJ",
      "include_colab_link": true
    },
    "kernelspec": {
      "name": "python3",
      "display_name": "Python 3"
    }
  },
  "cells": [
    {
      "cell_type": "markdown",
      "metadata": {
        "id": "view-in-github",
        "colab_type": "text"
      },
      "source": [
        "<a href=\"https://colab.research.google.com/github/sunandasuchi/Array_Easy/blob/master/ReverseString.ipynb\" target=\"_parent\"><img src=\"https://colab.research.google.com/assets/colab-badge.svg\" alt=\"Open In Colab\"/></a>"
      ]
    },
    {
      "cell_type": "markdown",
      "metadata": {
        "id": "FTivEOEVKrSE"
      },
      "source": [
        "## **Reverse a String**"
      ]
    },
    {
      "cell_type": "markdown",
      "metadata": {
        "id": "eL87n0T5KrhW"
      },
      "source": [
        "#### ***Using  Class and String***"
      ]
    },
    {
      "cell_type": "code",
      "metadata": {
        "colab": {
          "base_uri": "https://localhost:8080/",
          "height": 35
        },
        "id": "uMtxs6srKq0t",
        "outputId": "6361226b-d49f-46f5-d044-d319e0bb2903"
      },
      "source": [
        "class Reverse:\r\n",
        "  def __init__(self):\r\n",
        "    self.str = \"\"\r\n",
        "  \r\n",
        "  def getStr(self,a):\r\n",
        "    self.str = a\r\n",
        "    return self.str\r\n",
        "  \r\n",
        "  def reversing(self):\r\n",
        "    b = \" \"\r\n",
        "    for i in range(len(self.str)-1, -1, -1):\r\n",
        "      b = b+ self.str[i]\r\n",
        "    return b\r\n",
        "\r\n",
        "str1 = Reverse()\r\n",
        "str1.getStr(\"Pili is a cute baby\")\r\n",
        "str1.reversing()\r\n"
      ],
      "execution_count": 1,
      "outputs": [
        {
          "output_type": "execute_result",
          "data": {
            "application/vnd.google.colaboratory.intrinsic+json": {
              "type": "string"
            },
            "text/plain": [
              "' ybab etuc a si iliP'"
            ]
          },
          "metadata": {
            "tags": []
          },
          "execution_count": 1
        }
      ]
    },
    {
      "cell_type": "markdown",
      "metadata": {
        "id": "EEI_Xv44K5uR"
      },
      "source": [
        "#### ***Using Array and Method***"
      ]
    },
    {
      "cell_type": "code",
      "metadata": {
        "colab": {
          "base_uri": "https://localhost:8080/",
          "height": 35
        },
        "id": "DqYCyklXK8vW",
        "outputId": "4094cdf0-7545-4316-dd33-1ece82e34579"
      },
      "source": [
        "  def reversing(str):\r\n",
        "    \r\n",
        "    myStr = []\r\n",
        "\r\n",
        "    for i in range(len(str)-1, -1, -1):\r\n",
        "      myStr.append(str[i])\r\n",
        "    return \"\".join(myStr) # Here \"\".join() joins the string in 1 line. Otherwise it would print every word in separate Lines.\r\n",
        "\r\n",
        "reversing(\"Pili is a cute baby\")"
      ],
      "execution_count": 2,
      "outputs": [
        {
          "output_type": "execute_result",
          "data": {
            "application/vnd.google.colaboratory.intrinsic+json": {
              "type": "string"
            },
            "text/plain": [
              "'ybab etuc a si iliP'"
            ]
          },
          "metadata": {
            "tags": []
          },
          "execution_count": 2
        }
      ]
    }
  ]
}