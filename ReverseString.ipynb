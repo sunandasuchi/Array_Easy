{
  "nbformat": 4,
  "nbformat_minor": 0,
  "metadata": {
    "colab": {
      "name": "Untitled3.ipynb",
      "provenance": [],
      "authorship_tag": "ABX9TyPl221kPrfnqvVGDuinhczv",
      "include_colab_link": true
    },
    "kernelspec": {
      "name": "python3",
      "display_name": "Python 3"
    }
  },
  "cells": [
    {
      "cell_type": "markdown",
      "metadata": {
        "id": "view-in-github",
        "colab_type": "text"
      },
      "source": [
        "<a href=\"https://colab.research.google.com/github/sunandasuchi/Array_Easy/blob/master/ReverseString.ipynb\" target=\"_parent\"><img src=\"https://colab.research.google.com/assets/colab-badge.svg\" alt=\"Open In Colab\"/></a>"
      ]
    },
    {
      "cell_type": "markdown",
      "metadata": {
        "id": "FTivEOEVKrSE"
      },
      "source": [
        "## **Reverse a String**"
      ]
    },
    {
      "cell_type": "markdown",
      "metadata": {
        "id": "eL87n0T5KrhW"
      },
      "source": [
        "#### ***Using  Class and String***"
      ]
    },
    {
      "cell_type": "code",
      "metadata": {
        "colab": {
          "base_uri": "https://localhost:8080/",
          "height": 35
        },
        "id": "uMtxs6srKq0t",
        "outputId": "dff0b431-95ed-45ee-a397-08c1d95d1f81"
      },
      "source": [
        "class Reverse:\r\n",
        "  def __init__(self):\r\n",
        "    self.str = \"\"\r\n",
        "  \r\n",
        "  def getStr(self,a):\r\n",
        "    self.str = a\r\n",
        "    return self.str\r\n",
        "  \r\n",
        "  def reversing(self):\r\n",
        "    b = \" \"\r\n",
        "    for i in range(len(self.str)-1, -1, -1):\r\n",
        "      b = b+ self.str[i]\r\n",
        "    return b\r\n",
        "\r\n",
        "str1 = Reverse()\r\n",
        "str1.getStr(\"Rose is a Beautiful Flower\")\r\n",
        "str1.reversing()\r\n"
      ],
      "execution_count": 10,
      "outputs": [
        {
          "output_type": "execute_result",
          "data": {
            "application/vnd.google.colaboratory.intrinsic+json": {
              "type": "string"
            },
            "text/plain": [
              "' rewolF lufituaeB a si esoR'"
            ]
          },
          "metadata": {
            "tags": []
          },
          "execution_count": 10
        }
      ]
    },
    {
      "cell_type": "markdown",
      "metadata": {
        "id": "EEI_Xv44K5uR"
      },
      "source": [
        "#### ***Using Array and Method***"
      ]
    },
    {
      "cell_type": "code",
      "metadata": {
        "colab": {
          "base_uri": "https://localhost:8080/",
          "height": 35
        },
        "id": "DqYCyklXK8vW",
        "outputId": "20b2d6dc-b3d0-443d-ed75-4a6fa7d950d7"
      },
      "source": [
        "  def reversing(str):\r\n",
        "    \r\n",
        "    myStr = []\r\n",
        "\r\n",
        "    for i in range(len(str)-1, -1, -1):\r\n",
        "      myStr.append(str[i])\r\n",
        "    return \"\".join(myStr) # Here \"\".join() joins the string in 1 line. Otherwise it would print every word in separate Lines.\r\n",
        "\r\n",
        "reversing(\"Rose is a Beautiful Flower\")"
      ],
      "execution_count": 11,
      "outputs": [
        {
          "output_type": "execute_result",
          "data": {
            "application/vnd.google.colaboratory.intrinsic+json": {
              "type": "string"
            },
            "text/plain": [
              "'rewolF lufituaeB a si esoR'"
            ]
          },
          "metadata": {
            "tags": []
          },
          "execution_count": 11
        }
      ]
    },
    {
      "cell_type": "markdown",
      "metadata": {
        "id": "tt-APadzM-ZX"
      },
      "source": [
        "#### ***Another Way***"
      ]
    },
    {
      "cell_type": "code",
      "metadata": {
        "colab": {
          "base_uri": "https://localhost:8080/"
        },
        "id": "IW5l4zAjMBQC",
        "outputId": "cf792540-5cd7-465a-ab3b-902f1ec6102e"
      },
      "source": [
        "a = \"Rose is a Beautiful Flower\"\r\n",
        "print(a[::-1])"
      ],
      "execution_count": 12,
      "outputs": [
        {
          "output_type": "stream",
          "text": [
            "rewolF lufituaeB a si esoR\n"
          ],
          "name": "stdout"
        }
      ]
    }
  ]
}