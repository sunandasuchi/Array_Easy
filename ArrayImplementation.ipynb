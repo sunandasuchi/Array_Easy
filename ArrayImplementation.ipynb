{
  "nbformat": 4,
  "nbformat_minor": 0,
  "metadata": {
    "colab": {
      "name": "Untitled1.ipynb",
      "provenance": [],
      "authorship_tag": "ABX9TyPnUmYRwlkVghN7CR0qimxX",
      "include_colab_link": true
    },
    "kernelspec": {
      "name": "python3",
      "display_name": "Python 3"
    }
  },
  "cells": [
    {
      "cell_type": "markdown",
      "metadata": {
        "id": "view-in-github",
        "colab_type": "text"
      },
      "source": [
        "<a href=\"https://colab.research.google.com/github/sunandasuchi/Array_Easy/blob/master/ArrayImplementation.ipynb\" target=\"_parent\"><img src=\"https://colab.research.google.com/assets/colab-badge.svg\" alt=\"Open In Colab\"/></a>"
      ]
    },
    {
      "cell_type": "code",
      "metadata": {
        "id": "xK_JYtKspyip"
      },
      "source": [
        "class MyArray():\r\n",
        "    \r\n",
        "  def __init__(self):\r\n",
        "    self.length = 0\r\n",
        "    self.data = {}\r\n",
        "\r\n",
        "  def get(self,ind):\r\n",
        "    \r\n",
        "    return self.data[ind]\r\n",
        "\r\n",
        "  def pushItem(self, item):\r\n",
        "    self.data[self.length] = item\r\n",
        "    self.length += 1\r\n",
        "\r\n",
        "  def popItem(self):\r\n",
        "    #lastitem = self.data[self.length -1]\r\n",
        "    del self.data[self.length -1]\r\n",
        "    self.length -= 1\r\n",
        "\r\n",
        "\r\n",
        "  def delItem(self, index):\r\n",
        "    del self.data[index]\r\n",
        "    for i in range(index,self.length-1):\r\n",
        "      self.data[i] = self.data[i+1]\r\n",
        "    del self.data[self.length-1]\r\n",
        "    self.length -= 1\r\n",
        "\r\n",
        "  def insertItem(self, ind, val):\r\n",
        "    for i in range(self.length, ind, -1): # Time Complexity O(n)\r\n",
        "      self.data[i] = self.data[i-1]\r\n",
        "    self.data[ind] = val\r\n",
        "\r\n",
        "    self.length += 1\r\n",
        "\r\n",
        "\r\n",
        "\r\n"
      ],
      "execution_count": 127,
      "outputs": []
    },
    {
      "cell_type": "code",
      "metadata": {
        "colab": {
          "base_uri": "https://localhost:8080/"
        },
        "id": "B_vU3hN3tORF",
        "outputId": "ed248a79-7214-432e-9e57-093d327cba4f"
      },
      "source": [
        "array = MyArray()\r\n",
        "array.pushItem(2)\r\n",
        "array.pushItem(5)\r\n",
        "array.pushItem(17)\r\n",
        "array.pushItem(51)\r\n",
        "array.pushItem(\"abcD\")\r\n",
        "array.pushItem('P')\r\n",
        "array.data\r\n"
      ],
      "execution_count": 128,
      "outputs": [
        {
          "output_type": "execute_result",
          "data": {
            "text/plain": [
              "{0: 2, 1: 5, 2: 17, 3: 51, 4: 'abcD', 5: 'P'}"
            ]
          },
          "metadata": {
            "tags": []
          },
          "execution_count": 128
        }
      ]
    },
    {
      "cell_type": "code",
      "metadata": {
        "colab": {
          "base_uri": "https://localhost:8080/"
        },
        "id": "NjdkxKX0-zxa",
        "outputId": "75bb1e98-a5d8-4b37-9e59-f012c01dc265"
      },
      "source": [
        "array.length"
      ],
      "execution_count": 129,
      "outputs": [
        {
          "output_type": "execute_result",
          "data": {
            "text/plain": [
              "6"
            ]
          },
          "metadata": {
            "tags": []
          },
          "execution_count": 129
        }
      ]
    },
    {
      "cell_type": "code",
      "metadata": {
        "colab": {
          "base_uri": "https://localhost:8080/"
        },
        "id": "Jq2lO2Qr5sm2",
        "outputId": "3bd96000-9086-4c1c-e942-02486129539b"
      },
      "source": [
        "array.insertItem(2, \"Shelly\")\r\n",
        "\r\n",
        "array.data"
      ],
      "execution_count": 130,
      "outputs": [
        {
          "output_type": "execute_result",
          "data": {
            "text/plain": [
              "{0: 2, 1: 5, 2: 'Shelly', 3: 17, 4: 51, 5: 'abcD', 6: 'P'}"
            ]
          },
          "metadata": {
            "tags": []
          },
          "execution_count": 130
        }
      ]
    },
    {
      "cell_type": "code",
      "metadata": {
        "colab": {
          "base_uri": "https://localhost:8080/"
        },
        "id": "wJuvz_Eu8lPi",
        "outputId": "b6ab73b0-6a1e-4f79-9952-f28a4ac66dd1"
      },
      "source": [
        "array.length"
      ],
      "execution_count": 131,
      "outputs": [
        {
          "output_type": "execute_result",
          "data": {
            "text/plain": [
              "7"
            ]
          },
          "metadata": {
            "tags": []
          },
          "execution_count": 131
        }
      ]
    }
  ]
}