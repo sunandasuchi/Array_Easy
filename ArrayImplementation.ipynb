{
  "nbformat": 4,
  "nbformat_minor": 0,
  "metadata": {
    "colab": {
      "name": "Untitled1.ipynb",
      "provenance": [],
      "authorship_tag": "ABX9TyPj91j4vi/Cqzdg+kVrErK4",
      "include_colab_link": true
    },
    "kernelspec": {
      "name": "python3",
      "display_name": "Python 3"
    }
  },
  "cells": [
    {
      "cell_type": "markdown",
      "metadata": {
        "id": "view-in-github",
        "colab_type": "text"
      },
      "source": [
        "<a href=\"https://colab.research.google.com/github/sunandasuchi/Array_Easy/blob/master/ArrayImplementation.ipynb\" target=\"_parent\"><img src=\"https://colab.research.google.com/assets/colab-badge.svg\" alt=\"Open In Colab\"/></a>"
      ]
    },
    {
      "cell_type": "markdown",
      "metadata": {
        "id": "dwl4WVPAiFvJ"
      },
      "source": [
        "Implementation of Array from the Scratch in Python"
      ]
    },
    {
      "cell_type": "code",
      "metadata": {
        "id": "xK_JYtKspyip"
      },
      "source": [
        "class MyArray():\r\n",
        "    \r\n",
        "  def __init__(self):\r\n",
        "    self.length = 0\r\n",
        "    self.data = {}\r\n",
        "\r\n",
        "  def get(self,ind):\r\n",
        "    \r\n",
        "    return self.data[ind] # Returning the value of index\r\n",
        "\r\n",
        "  # Adding method for Adding 1 item at last  \r\n",
        "  def pushItem(self, item):\r\n",
        "    self.data[self.length] = item # adding 1 item. So, the Time Complexity O(1)\r\n",
        "    self.length += 1 # Increasing the length\r\n",
        "\r\n",
        "\r\n",
        "  # Adding method for Deleting the last item\r\n",
        "  def popItem(self):\r\n",
        "    del self.data[self.length -1] # For deleting last Item, it doesn't need to search. So the Time Complexity O(1)\r\n",
        "    self.length -= 1 # Decreasing the length\r\n",
        "\r\n",
        "\r\n",
        "  # Adding method for Deleting item with a fixed index\r\n",
        "  def delItem(self, index):\r\n",
        "    del self.data[index]\r\n",
        "    for i in range(index,self.length-1): # For the worst case scenario Time Complexity O(n)\r\n",
        "\r\n",
        "    \"\"\" As I am Deleting an item in the middle of an array, I have to shift the entire Array after \r\n",
        "      deleting the index. \"\"\"\r\n",
        "\r\n",
        "      self.data[i] = self.data[i+1]\r\n",
        "    del self.data[self.length-1]\r\n",
        "    self.length -= 1 # Decreasing the length\r\n",
        "\r\n",
        "\r\n",
        "\r\n",
        "  # Adding method for Inserting item with a fixed index and value\r\n",
        "  def insertItem(self, ind, val):\r\n",
        "    for i in range(self.length, ind, -1): # For the worst case scenario Time Complexity O(n)\r\n",
        "      \"\"\" As I am inserting an item in the middle of an array, I have to shift the entire Array after \r\n",
        "      the newly added index. \"\"\"\r\n",
        "      \r\n",
        "      self.data[i] = self.data[i-1]  \r\n",
        "    self.data[ind] = val\r\n",
        "\r\n",
        "    self.length += 1 # Increasing the length\r\n",
        "\r\n",
        "\r\n",
        "\r\n"
      ],
      "execution_count": 127,
      "outputs": []
    },
    {
      "cell_type": "code",
      "metadata": {
        "colab": {
          "base_uri": "https://localhost:8080/"
        },
        "id": "B_vU3hN3tORF",
        "outputId": "ed248a79-7214-432e-9e57-093d327cba4f"
      },
      "source": [
        "# Creating object of MyArray() Class\r\n",
        "array = MyArray()\r\n",
        "\r\n",
        "# Calling the pushItem() function for adding some items in the Array\r\n",
        "array.pushItem(2)\r\n",
        "array.pushItem(5)\r\n",
        "array.pushItem(17)\r\n",
        "array.pushItem(51)\r\n",
        "array.pushItem(\"abcD\")\r\n",
        "array.pushItem('P')\r\n",
        "\r\n",
        "# Displaying the Array\r\n",
        "array.data\r\n"
      ],
      "execution_count": 128,
      "outputs": [
        {
          "output_type": "execute_result",
          "data": {
            "text/plain": [
              "{0: 2, 1: 5, 2: 17, 3: 51, 4: 'abcD', 5: 'P'}"
            ]
          },
          "metadata": {
            "tags": []
          },
          "execution_count": 128
        }
      ]
    },
    {
      "cell_type": "code",
      "metadata": {
        "colab": {
          "base_uri": "https://localhost:8080/"
        },
        "id": "NjdkxKX0-zxa",
        "outputId": "75bb1e98-a5d8-4b37-9e59-f012c01dc265"
      },
      "source": [
        "# Displaying the Length\r\n",
        "array.length"
      ],
      "execution_count": 129,
      "outputs": [
        {
          "output_type": "execute_result",
          "data": {
            "text/plain": [
              "6"
            ]
          },
          "metadata": {
            "tags": []
          },
          "execution_count": 129
        }
      ]
    },
    {
      "cell_type": "code",
      "metadata": {
        "colab": {
          "base_uri": "https://localhost:8080/"
        },
        "id": "Jq2lO2Qr5sm2",
        "outputId": "3bd96000-9086-4c1c-e942-02486129539b"
      },
      "source": [
        "# Inserting 1 item at Index 2, which has value \"Shelly\"\r\n",
        "array.insertItem(2, \"Shelly\")\r\n",
        "\r\n",
        "# Displaying the New Array\r\n",
        "array.data"
      ],
      "execution_count": 130,
      "outputs": [
        {
          "output_type": "execute_result",
          "data": {
            "text/plain": [
              "{0: 2, 1: 5, 2: 'Shelly', 3: 17, 4: 51, 5: 'abcD', 6: 'P'}"
            ]
          },
          "metadata": {
            "tags": []
          },
          "execution_count": 130
        }
      ]
    },
    {
      "cell_type": "code",
      "metadata": {
        "colab": {
          "base_uri": "https://localhost:8080/"
        },
        "id": "wJuvz_Eu8lPi",
        "outputId": "b6ab73b0-6a1e-4f79-9952-f28a4ac66dd1"
      },
      "source": [
        "# Displaying the Length\r\n",
        "\r\n",
        "array.length"
      ],
      "execution_count": 131,
      "outputs": [
        {
          "output_type": "execute_result",
          "data": {
            "text/plain": [
              "7"
            ]
          },
          "metadata": {
            "tags": []
          },
          "execution_count": 131
        }
      ]
    }
  ]
}